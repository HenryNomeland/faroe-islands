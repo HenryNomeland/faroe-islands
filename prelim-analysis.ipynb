{
 "cells": [
  {
   "cell_type": "code",
   "execution_count": 3,
   "metadata": {},
   "outputs": [],
   "source": [
    "import geojson\n",
    "import os\n",
    "import pandas as pd"
   ]
  },
  {
   "cell_type": "markdown",
   "metadata": {},
   "source": [
    "Here we would like to ensure that the population of the entire Faroe Islands matches with the sum of the populations of all municipalities. This comes from the following source, a government resource of the Faroe Islands - https://statbank.hagstova.fo/pxweb/en/H2/H2__IB__IB01/fo_abgd_md.px/table/tableViewLayout2/ - Data was pulled for July 2024."
   ]
  },
  {
   "cell_type": "code",
   "execution_count": 39,
   "metadata": {},
   "outputs": [
    {
     "name": "stdout",
     "output_type": "stream",
     "text": [
      "Total Faroe Islands:  54815\n",
      "Sum of All Faroe Island Locations:  54815\n"
     ]
    }
   ],
   "source": [
    "df = pd.read_csv(\"faroe-population.csv\")\n",
    "df = (df\n",
    "      .pipe(lambda x: x.assign(Population=pd.to_numeric(x[\"Population\"], errors='coerce'))) \n",
    "      .dropna()                                             \n",
    "      .pipe(lambda x: x.assign(Population=x[\"Population\"].astype(int)))                     \n",
    "      )\n",
    "print(\"Total Faroe Islands: \", df.query(\"Place == 'Total Faroe Islands'\").Population[0])\n",
    "print(\"Sum of All Faroe Island Locations: \", df.query(\"Place != 'Total Faroe Islands'\").Population.sum())"
   ]
  },
  {
   "cell_type": "code",
   "execution_count": null,
   "metadata": {},
   "outputs": [],
   "source": []
  }
 ],
 "metadata": {
  "kernelspec": {
   "display_name": "base",
   "language": "python",
   "name": "python3"
  },
  "language_info": {
   "codemirror_mode": {
    "name": "ipython",
    "version": 3
   },
   "file_extension": ".py",
   "mimetype": "text/x-python",
   "name": "python",
   "nbconvert_exporter": "python",
   "pygments_lexer": "ipython3",
   "version": "3.11.5"
  }
 },
 "nbformat": 4,
 "nbformat_minor": 2
}
